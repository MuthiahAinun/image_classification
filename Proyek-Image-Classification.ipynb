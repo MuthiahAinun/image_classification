{
 "cells": [
  {
   "cell_type": "markdown",
   "id": "48891409-3177-4dbf-b984-34bfb29462de",
   "metadata": {},
   "source": [
    "# Proyek Image Classification: [Intel-Image-Classification-dataset]\n",
    "- **Nama:** [Tsamarah Muthi'ah Abdullah]\n",
    "- **Email:** [a135xaf486@devacademy.id]\n",
    "- **ID Dicoding:** [a135xaf48]"
   ]
  },
  {
   "cell_type": "markdown",
   "id": "c6b37ab9-f3d2-4a10-b744-2acf5d783fa6",
   "metadata": {},
   "source": [
    "## **Import Library**"
   ]
  },
  {
   "cell_type": "code",
   "execution_count": 2,
   "id": "6165d939-789a-4bfe-983a-2111f17edf17",
   "metadata": {},
   "outputs": [],
   "source": [
    "import tensorflow as tf\n",
    "from tensorflow.keras.models import Sequential\n",
    "from tensorflow.keras.layers import Conv2D, MaxPooling2D, Flatten, Dense, Dropout, BatchNormalization\n",
    "from tensorflow.keras.preprocessing.image import ImageDataGenerator\n",
    "from tensorflow.keras.callbacks import EarlyStopping, ReduceLROnPlateau, ModelCheckpoint\n",
    "import matplotlib.pyplot as plt\n",
    "from tensorflow.keras.optimizers import Adam\n",
    "import os\n",
    "from sklearn.metrics import classification_report\n",
    "from collections import defaultdict\n",
    "import pandas as pd\n",
    "from tensorflow.keras import Input\n",
    "import numpy as np\n",
    "import cv2"
   ]
  },
  {
   "cell_type": "markdown",
   "id": "0bd703df-173e-4b2f-8da6-61950caf9e40",
   "metadata": {},
   "source": [
    "## **Dataset**"
   ]
  },
  {
   "cell_type": "markdown",
   "id": "0871a1ed-4b86-459d-8c73-f4b9f2f40833",
   "metadata": {},
   "source": [
    "### **🗂️ Deskripsi Dataset**\n",
    "\n",
    "Dataset yang digunakan yaitu ```Intel Image Classification``` yang berisi gambar pemandangan alam dan lingkungan yang terbagi ke dalam 6 kelas, yaitu:\n",
    "\n",
    "- buildings (bangunan)\n",
    "- forest (hutan)\n",
    "- glacier (gletser)\n",
    "- mountain (gunung)\n",
    "- sea (laut)\n",
    "- street (jalan)\n",
    "\n",
    "Dataset ini memiliki total 20.034 gambar yang sudah terbagi secara terstruktur ke dalam 3 folder:\n",
    "\n",
    "1. train/ (untuk pelatihan model)\n",
    "\n",
    "2. test/ (untuk pengujian akhir)\n",
    "\n",
    "3. val/ (untuk validasi selama pelatihan)\n",
    "\n",
    "Setiap gambar beresolusi 150x150 piksel dan merepresentasikan kondisi nyata dengan berbagai variasi cahaya, sudut pandang, dan cuaca.\n",
    "\n",
    "Pembagian dataset **Train : Validation : Test** = ```70 : 15 : 15```\n",
    "\n",
    "- > **Link unduh dataset :** https://www.kaggle.com/datasets/puneet6060/intel-image-classification"
   ]
  },
  {
   "cell_type": "code",
   "execution_count": 3,
   "id": "d3e008af-7be0-425a-9bd6-927958eea019",
   "metadata": {},
   "outputs": [],
   "source": [
    "# Path utama dataset\n",
    "base_path = r\"D:\\PROJECT\\LASKAR AI\\Submission 6\\intel-image-classification\""
   ]
  },
  {
   "cell_type": "code",
   "execution_count": 4,
   "id": "a72c4ae9-aaca-48ff-97d9-fb8972de1737",
   "metadata": {},
   "outputs": [],
   "source": [
    "# Inisialisasi dictionary untuk menyimpan data\n",
    "distribution = defaultdict(dict)"
   ]
  },
  {
   "cell_type": "code",
   "execution_count": 5,
   "id": "dc95030b-6c29-4896-894f-80ee848c6b8e",
   "metadata": {},
   "outputs": [
    {
     "name": "stdout",
     "output_type": "stream",
     "text": [
      "\n",
      "📁 TRAIN Folder\n",
      "  - buildings : 2191 gambar\n",
      "  - forest    : 2271 gambar\n",
      "  - glacier   : 2404 gambar\n",
      "  - mountain  : 2512 gambar\n",
      "  - sea       : 2274 gambar\n",
      "  - street    : 2382 gambar\n",
      "  👉 Total gambar di train: 14034\n",
      "\n",
      "📁 TEST Folder\n",
      "  - buildings : 437 gambar\n",
      "  - forest    : 474 gambar\n",
      "  - glacier   : 553 gambar\n",
      "  - mountain  : 525 gambar\n",
      "  - sea       : 510 gambar\n",
      "  - street    : 501 gambar\n",
      "  👉 Total gambar di test: 3000\n",
      "\n",
      "📁 VAL Folder\n",
      "  - buildings : 437 gambar\n",
      "  - forest    : 474 gambar\n",
      "  - glacier   : 553 gambar\n",
      "  - mountain  : 525 gambar\n",
      "  - sea       : 510 gambar\n",
      "  - street    : 501 gambar\n",
      "  👉 Total gambar di val: 3000\n"
     ]
    }
   ],
   "source": [
    "# Loop untuk tiap folder (train, test, val)\n",
    "for dataset_type in ['train', 'test', 'val']:\n",
    "    dataset_path = os.path.join(base_path, dataset_type)\n",
    "    \n",
    "    if os.path.exists(dataset_path):\n",
    "        print(f\"\\n📁 {dataset_type.upper()} Folder\")\n",
    "        total_images = 0\n",
    "        \n",
    "        # Loop untuk tiap kelas di dalam folder\n",
    "        for class_name in os.listdir(dataset_path):\n",
    "            class_path = os.path.join(dataset_path, class_name)\n",
    "            \n",
    "            if os.path.isdir(class_path):\n",
    "                count = len([\n",
    "                    fname for fname in os.listdir(class_path)\n",
    "                    if fname.lower().endswith(('.jpg', '.jpeg', '.png'))\n",
    "                ])\n",
    "                distribution[dataset_type][class_name] = count\n",
    "                total_images += count\n",
    "                print(f\"  - {class_name:10s}: {count} gambar\")\n",
    "        \n",
    "        print(f\"  👉 Total gambar di {dataset_type}: {total_images}\")"
   ]
  },
  {
   "cell_type": "code",
   "execution_count": 6,
   "id": "bbb61592-c46f-4b40-bc87-a21422a7ffdd",
   "metadata": {},
   "outputs": [
    {
     "name": "stdout",
     "output_type": "stream",
     "text": [
      "\n",
      "📊 Distribusi Lengkap dalam Tabel:\n"
     ]
    },
    {
     "data": {
      "text/html": [
       "<div>\n",
       "<style scoped>\n",
       "    .dataframe tbody tr th:only-of-type {\n",
       "        vertical-align: middle;\n",
       "    }\n",
       "\n",
       "    .dataframe tbody tr th {\n",
       "        vertical-align: top;\n",
       "    }\n",
       "\n",
       "    .dataframe thead th {\n",
       "        text-align: right;\n",
       "    }\n",
       "</style>\n",
       "<table border=\"1\" class=\"dataframe\">\n",
       "  <thead>\n",
       "    <tr style=\"text-align: right;\">\n",
       "      <th></th>\n",
       "      <th>train</th>\n",
       "      <th>test</th>\n",
       "      <th>val</th>\n",
       "    </tr>\n",
       "  </thead>\n",
       "  <tbody>\n",
       "    <tr>\n",
       "      <th>buildings</th>\n",
       "      <td>2191</td>\n",
       "      <td>437</td>\n",
       "      <td>437</td>\n",
       "    </tr>\n",
       "    <tr>\n",
       "      <th>forest</th>\n",
       "      <td>2271</td>\n",
       "      <td>474</td>\n",
       "      <td>474</td>\n",
       "    </tr>\n",
       "    <tr>\n",
       "      <th>glacier</th>\n",
       "      <td>2404</td>\n",
       "      <td>553</td>\n",
       "      <td>553</td>\n",
       "    </tr>\n",
       "    <tr>\n",
       "      <th>mountain</th>\n",
       "      <td>2512</td>\n",
       "      <td>525</td>\n",
       "      <td>525</td>\n",
       "    </tr>\n",
       "    <tr>\n",
       "      <th>sea</th>\n",
       "      <td>2274</td>\n",
       "      <td>510</td>\n",
       "      <td>510</td>\n",
       "    </tr>\n",
       "    <tr>\n",
       "      <th>street</th>\n",
       "      <td>2382</td>\n",
       "      <td>501</td>\n",
       "      <td>501</td>\n",
       "    </tr>\n",
       "  </tbody>\n",
       "</table>\n",
       "</div>"
      ],
      "text/plain": [
       "           train  test  val\n",
       "buildings   2191   437  437\n",
       "forest      2271   474  474\n",
       "glacier     2404   553  553\n",
       "mountain    2512   525  525\n",
       "sea         2274   510  510\n",
       "street      2382   501  501"
      ]
     },
     "metadata": {},
     "output_type": "display_data"
    }
   ],
   "source": [
    "# Print semua hasil distribusi dalam bentuk tabel\n",
    "print(\"\\n📊 Distribusi Lengkap dalam Tabel:\")\n",
    "df = pd.DataFrame(distribution).fillna(0).astype(int)\n",
    "display(df)"
   ]
  },
  {
   "cell_type": "markdown",
   "id": "0569d797-d833-4346-a336-9b491d96d60f",
   "metadata": {},
   "source": [
    "## **Preprocessing**"
   ]
  },
  {
   "cell_type": "code",
   "execution_count": 7,
   "id": "3f3c87f7-15ae-490a-90c1-cca7c4ab7979",
   "metadata": {},
   "outputs": [],
   "source": [
    "# Menyusun path ke masing-masing folder\n",
    "train_path = os.path.join(base_path, \"train\")\n",
    "val_path = os.path.join(base_path, \"val\")\n",
    "test_path = os.path.join(base_path, \"test\")"
   ]
  },
  {
   "cell_type": "code",
   "execution_count": 7,
   "id": "76ae5b12-7432-4bcf-8834-dcaca9f65076",
   "metadata": {},
   "outputs": [],
   "source": [
    "# Parameter preprocessing\n",
    "img_size = (150, 150)\n",
    "batch_size = 32"
   ]
  },
  {
   "cell_type": "markdown",
   "id": "a14036bd-5aa8-4962-a8d0-62fe2c80d075",
   "metadata": {},
   "source": [
    "🖼️ Menentukan ukuran gambar yang akan diubah menjadi ```(150x150 piksel)```\n",
    "\n",
    "📦 Serta jumlah gambar yang diproses per batch selama training ```(32 gambar sekaligus).```"
   ]
  },
  {
   "cell_type": "code",
   "execution_count": 9,
   "id": "59af83b7-2934-48e4-bab1-7f76f291f064",
   "metadata": {},
   "outputs": [],
   "source": [
    "# Membuat generator dengan rescaling (normalisasi pixel)\n",
    "# Data Augmentation\n",
    "train_gen = ImageDataGenerator(\n",
    "    rescale=1./255,              # Normalisasi pixel gambar dari 0-255 menjadi 0-1 agar model lebih cepat dan stabil belajar.\n",
    "    \n",
    "    rotation_range=20,           # Augmentasi: Memutar gambar secara acak dalam rentang -20 hingga +20 derajat.\n",
    "    \n",
    "    width_shift_range=0.1,       # Augmentasi: Menggeser gambar secara horizontal (lebar) sebanyak 10% dari total lebar gambar.\n",
    "    \n",
    "    height_shift_range=0.1,      # Augmentasi: Menggeser gambar secara vertikal (tinggi) sebanyak 10% dari total tinggi gambar.\n",
    "    \n",
    "    zoom_range=0.2,              # Augmentasi: Melakukan zoom in/out secara acak hingga 10%.\n",
    "\n",
    "    fill_mode='nearest',\n",
    "\n",
    "    shear_range=0.1,\n",
    "    \n",
    "    horizontal_flip=True         # Augmentasi: Membalik gambar secara horizontal.\n",
    ")\n",
    "\n",
    "\n",
    "val_gen = ImageDataGenerator(rescale=1./255)\n",
    "test_gen = ImageDataGenerator(rescale=1./255)"
   ]
  },
  {
   "cell_type": "markdown",
   "id": "71a57a0f-5fd6-41fd-a312-4e822ee99ffa",
   "metadata": {},
   "source": [
    "- Melakukan augmentasi data pada data training\n",
    "- ```rescale=1./255``` digunakan untuk menormalkan pixel dari 0–255 menjadi 0–1."
   ]
  },
  {
   "cell_type": "code",
   "execution_count": 10,
   "id": "f222d9b5-b187-405e-aecf-354354cc6ca7",
   "metadata": {},
   "outputs": [
    {
     "name": "stdout",
     "output_type": "stream",
     "text": [
      "Found 14034 images belonging to 6 classes.\n",
      "Found 3000 images belonging to 6 classes.\n",
      "Found 3000 images belonging to 6 classes.\n"
     ]
    }
   ],
   "source": [
    "# Membaca gambar dan mempersiapkan data untuk model\n",
    "train_data = train_gen.flow_from_directory(\n",
    "    train_path,\n",
    "    target_size=img_size,\n",
    "    batch_size=batch_size,\n",
    "    class_mode='categorical',\n",
    "    shuffle=True\n",
    ")\n",
    "\n",
    "val_data = val_gen.flow_from_directory(\n",
    "    val_path,\n",
    "    target_size=img_size,\n",
    "    batch_size=batch_size,\n",
    "    class_mode='categorical',\n",
    "    shuffle=False\n",
    ")\n",
    "\n",
    "test_data = test_gen.flow_from_directory(\n",
    "    test_path,\n",
    "    target_size=img_size,\n",
    "    batch_size=batch_size,\n",
    "    class_mode='categorical',\n",
    "    shuffle=False \n",
    ")\n"
   ]
  },
  {
   "cell_type": "markdown",
   "id": "701d3b02-6c33-40a2-a829-668f6dc125ef",
   "metadata": {},
   "source": [
    "**📚 Membaca data train, val, dan test dari folder:**\n",
    "\n",
    "- Mengubah ukuran jadi 150x150\n",
    "\n",
    "- Membagi menjadi batch\n",
    "\n",
    "- Label dikonversi ke bentuk one-hot encoding ```(class_mode='categorical')```\n",
    "\n",
    "- Fungsi ```shuffle``` digunakan untuk mengacak urutan data setiap epoch saat training"
   ]
  },
  {
   "cell_type": "markdown",
   "id": "834d01a1-98c8-476f-ba85-5c59e9314aec",
   "metadata": {},
   "source": [
    "## **Model Building**"
   ]
  },
  {
   "cell_type": "code",
   "execution_count": 16,
   "id": "740782dd-a4ce-4fa9-8cd1-6cd6401fd6f6",
   "metadata": {},
   "outputs": [],
   "source": [
    "# Model CNN\n",
    "model = Sequential([\n",
    "    # Layer 1: Conv + MaxPool\n",
    "    Input(shape=(150, 150, 3)),\n",
    "    Conv2D(32, (3,3), activation='relu'),\n",
    "    BatchNormalization(),\n",
    "    MaxPooling2D(2, 2),\n",
    "\n",
    "    # Layer 2: Conv + MaxPool\n",
    "    Conv2D(64, (3,3), activation='relu'),\n",
    "    BatchNormalization(),\n",
    "    MaxPooling2D(2,2),\n",
    "\n",
    "    # Layer 3: Conv + MaxPool\n",
    "    Conv2D(128, (3,3), activation='relu'),\n",
    "    BatchNormalization(),\n",
    "    MaxPooling2D(2,2),\n",
    "\n",
    "    # Layer 4: Conv + MaxPool\n",
    "    Conv2D(256, (3,3), activation='relu'),\n",
    "    BatchNormalization(),\n",
    "    MaxPooling2D(2,2),\n",
    "\n",
    "    # Flatten dan Dense\n",
    "    Flatten(),                       # Mengubah hasil Conv2D jadi 1D\n",
    "    Dense(512, activation='relu'),   # Hidden layer dengan 512 neuron\n",
    "    Dropout(0.5),                    # Mencegah overfitting (drop 50% neuron saat training)\n",
    "    Dense(6, activation='softmax')   # Output layer untuk 6 kelas (multi-class classification)\n",
    "])"
   ]
  },
  {
   "cell_type": "code",
   "execution_count": 18,
   "id": "c516c75c-9e05-43f8-a460-e74baa879c40",
   "metadata": {},
   "outputs": [],
   "source": [
    "# Kompilasi model\n",
    "model.compile(\n",
    "    optimizer=Adam(learning_rate=0.001),\n",
    "    loss='categorical_crossentropy',\n",
    "    metrics=['accuracy']\n",
    ")"
   ]
  },
  {
   "cell_type": "code",
   "execution_count": 19,
   "id": "f2c86b41-489c-4b12-8bec-9486995d8c56",
   "metadata": {},
   "outputs": [],
   "source": [
    "# Callback\n",
    "callbacks = [\n",
    "    ReduceLROnPlateau(monitor='val_loss', patience=3, factor=0.2, verbose=1),\n",
    "    EarlyStopping(monitor='val_loss', patience=5, restore_best_weights=True, verbose=1)\n",
    "]"
   ]
  },
  {
   "cell_type": "code",
   "execution_count": 20,
   "id": "ecfcd709-6f4b-4f49-bf19-4f8d73c645da",
   "metadata": {},
   "outputs": [
    {
     "name": "stdout",
     "output_type": "stream",
     "text": [
      "Epoch 1/30\n",
      "439/439 [==============================] - 169s 382ms/step - loss: 1.9590 - accuracy: 0.5493 - val_loss: 1.6393 - val_accuracy: 0.5920 - lr: 0.0010\n",
      "Epoch 2/30\n",
      "439/439 [==============================] - 191s 434ms/step - loss: 0.9508 - accuracy: 0.6627 - val_loss: 1.3929 - val_accuracy: 0.5417 - lr: 0.0010\n",
      "Epoch 3/30\n",
      "439/439 [==============================] - 197s 448ms/step - loss: 0.8759 - accuracy: 0.6916 - val_loss: 0.6295 - val_accuracy: 0.7797 - lr: 0.0010\n",
      "Epoch 4/30\n",
      "439/439 [==============================] - 205s 467ms/step - loss: 0.8041 - accuracy: 0.7164 - val_loss: 0.9054 - val_accuracy: 0.6723 - lr: 0.0010\n",
      "Epoch 5/30\n",
      "439/439 [==============================] - 190s 432ms/step - loss: 0.7372 - accuracy: 0.7400 - val_loss: 0.6820 - val_accuracy: 0.7700 - lr: 0.0010\n",
      "Epoch 6/30\n",
      "439/439 [==============================] - ETA: 0s - loss: 0.7104 - accuracy: 0.7590  \n",
      "Epoch 6: ReduceLROnPlateau reducing learning rate to 0.00020000000949949026.\n",
      "439/439 [==============================] - 195s 445ms/step - loss: 0.7104 - accuracy: 0.7590 - val_loss: 1.0931 - val_accuracy: 0.7077 - lr: 0.0010\n",
      "Epoch 7/30\n",
      "439/439 [==============================] - 201s 457ms/step - loss: 0.5647 - accuracy: 0.8086 - val_loss: 0.4435 - val_accuracy: 0.8523 - lr: 2.0000e-04\n",
      "Epoch 8/30\n",
      "439/439 [==============================] - 203s 463ms/step - loss: 0.5079 - accuracy: 0.8246 - val_loss: 0.4730 - val_accuracy: 0.8463 - lr: 2.0000e-04\n",
      "Epoch 9/30\n",
      "439/439 [==============================] - 203s 463ms/step - loss: 0.4908 - accuracy: 0.8328 - val_loss: 0.4314 - val_accuracy: 0.8583 - lr: 2.0000e-04\n",
      "Epoch 10/30\n",
      "439/439 [==============================] - 186s 424ms/step - loss: 0.4701 - accuracy: 0.8338 - val_loss: 0.4183 - val_accuracy: 0.8587 - lr: 2.0000e-04\n",
      "Epoch 11/30\n",
      "439/439 [==============================] - 195s 443ms/step - loss: 0.4455 - accuracy: 0.8460 - val_loss: 0.4100 - val_accuracy: 0.8657 - lr: 2.0000e-04\n",
      "Epoch 12/30\n",
      "439/439 [==============================] - 196s 446ms/step - loss: 0.4357 - accuracy: 0.8455 - val_loss: 0.5140 - val_accuracy: 0.8243 - lr: 2.0000e-04\n",
      "Epoch 13/30\n",
      "439/439 [==============================] - 192s 437ms/step - loss: 0.4385 - accuracy: 0.8499 - val_loss: 0.4460 - val_accuracy: 0.8527 - lr: 2.0000e-04\n",
      "Epoch 14/30\n",
      "439/439 [==============================] - ETA: 0s - loss: 0.4170 - accuracy: 0.8561  \n",
      "Epoch 14: ReduceLROnPlateau reducing learning rate to 4.0000001899898055e-05.\n",
      "439/439 [==============================] - 185s 421ms/step - loss: 0.4170 - accuracy: 0.8561 - val_loss: 0.6827 - val_accuracy: 0.7980 - lr: 2.0000e-04\n",
      "Epoch 15/30\n",
      "439/439 [==============================] - 196s 446ms/step - loss: 0.3775 - accuracy: 0.8686 - val_loss: 0.3657 - val_accuracy: 0.8857 - lr: 4.0000e-05\n",
      "Epoch 16/30\n",
      "439/439 [==============================] - 198s 451ms/step - loss: 0.3733 - accuracy: 0.8693 - val_loss: 0.4926 - val_accuracy: 0.8637 - lr: 4.0000e-05\n",
      "Epoch 17/30\n",
      "439/439 [==============================] - 190s 432ms/step - loss: 0.3642 - accuracy: 0.8738 - val_loss: 0.4411 - val_accuracy: 0.8650 - lr: 4.0000e-05\n",
      "Epoch 18/30\n",
      "439/439 [==============================] - ETA: 0s - loss: 0.3581 - accuracy: 0.8761  \n",
      "Epoch 18: ReduceLROnPlateau reducing learning rate to 8.000000525498762e-06.\n",
      "439/439 [==============================] - 187s 426ms/step - loss: 0.3581 - accuracy: 0.8761 - val_loss: 0.4869 - val_accuracy: 0.8633 - lr: 4.0000e-05\n",
      "Epoch 19/30\n",
      "439/439 [==============================] - 186s 424ms/step - loss: 0.3438 - accuracy: 0.8789 - val_loss: 0.3620 - val_accuracy: 0.8877 - lr: 8.0000e-06\n",
      "Epoch 20/30\n",
      "439/439 [==============================] - 194s 442ms/step - loss: 0.3429 - accuracy: 0.8782 - val_loss: 0.3622 - val_accuracy: 0.8873 - lr: 8.0000e-06\n",
      "Epoch 21/30\n",
      "439/439 [==============================] - 199s 452ms/step - loss: 0.3429 - accuracy: 0.8813 - val_loss: 0.3592 - val_accuracy: 0.8880 - lr: 8.0000e-06\n",
      "Epoch 22/30\n",
      "439/439 [==============================] - 192s 436ms/step - loss: 0.3465 - accuracy: 0.8809 - val_loss: 0.3682 - val_accuracy: 0.8850 - lr: 8.0000e-06\n",
      "Epoch 23/30\n",
      "439/439 [==============================] - 191s 434ms/step - loss: 0.3410 - accuracy: 0.8831 - val_loss: 0.3535 - val_accuracy: 0.8880 - lr: 8.0000e-06\n",
      "Epoch 24/30\n",
      "439/439 [==============================] - 195s 443ms/step - loss: 0.3413 - accuracy: 0.8831 - val_loss: 0.3714 - val_accuracy: 0.8863 - lr: 8.0000e-06\n",
      "Epoch 25/30\n",
      "439/439 [==============================] - 199s 454ms/step - loss: 0.3399 - accuracy: 0.8804 - val_loss: 0.3529 - val_accuracy: 0.8893 - lr: 8.0000e-06\n",
      "Epoch 26/30\n",
      "439/439 [==============================] - 199s 452ms/step - loss: 0.3372 - accuracy: 0.8814 - val_loss: 0.3583 - val_accuracy: 0.8880 - lr: 8.0000e-06\n",
      "Epoch 27/30\n",
      "439/439 [==============================] - 203s 463ms/step - loss: 0.3370 - accuracy: 0.8772 - val_loss: 0.3543 - val_accuracy: 0.8897 - lr: 8.0000e-06\n",
      "Epoch 28/30\n",
      "439/439 [==============================] - ETA: 0s - loss: 0.3337 - accuracy: 0.8841  \n",
      "Epoch 28: ReduceLROnPlateau reducing learning rate to 1.6000001778593287e-06.\n",
      "439/439 [==============================] - 217s 495ms/step - loss: 0.3337 - accuracy: 0.8841 - val_loss: 0.3611 - val_accuracy: 0.8873 - lr: 8.0000e-06\n",
      "Epoch 29/30\n",
      "439/439 [==============================] - 206s 470ms/step - loss: 0.3407 - accuracy: 0.8796 - val_loss: 0.3583 - val_accuracy: 0.8880 - lr: 1.6000e-06\n",
      "Epoch 30/30\n",
      "Restoring model weights from the end of the best epoch: 25.0.3377 - accuracy: 0.8823  \n",
      "439/439 [==============================] - 218s 495ms/step - loss: 0.3377 - accuracy: 0.8823 - val_loss: 0.3557 - val_accuracy: 0.8873 - lr: 1.6000e-06\n",
      "Epoch 30: early stopping\n"
     ]
    }
   ],
   "source": [
    "# Training\n",
    "history = model.fit(\n",
    "    train_data,\n",
    "    epochs=30,\n",
    "    validation_data=val_data,\n",
    "    callbacks=callbacks\n",
    ")"
   ]
  },
  {
   "cell_type": "markdown",
   "id": "1fbabd49-2342-4057-83e1-963d2acbc986",
   "metadata": {},
   "source": [
    "- **Akurasi training terakhir: 88.23%**\n",
    "\n",
    "- **Akurasi validasi terakhir: 88.73%**\n",
    "\n",
    "- **Loss validasi terbaik: Sekitar 0.35-an**\n",
    "\n",
    "- **Perbedaan akurasi training dan validasi: Sangat kecil di akhir → tidak terlihat overfitting signifikan di akhir training.**\n",
    "\n",
    "- **Learning rate berhasil diturunkan secara bertahap berkat ReduceLROnPlateau, yang membantu menghindari overfitting lebih dalam dan memperhalus pembelajaran.**\n",
    "\n",
    "- **Model menyimpan bobot terbaik di epoch ke-25 berdasarkan val_loss.**"
   ]
  },
  {
   "cell_type": "markdown",
   "id": "397491c6-00a5-4262-b52b-d4fef156725e",
   "metadata": {},
   "source": [
    "## **Evaluasi**"
   ]
  },
  {
   "cell_type": "code",
   "execution_count": 21,
   "id": "61c849bb-fa22-46e2-a39d-95cab1fa446a",
   "metadata": {},
   "outputs": [
    {
     "name": "stdout",
     "output_type": "stream",
     "text": [
      "94/94 [==============================] - 8s 83ms/step - loss: 0.3529 - accuracy: 0.8893\n",
      "Test accuracy: 0.89\n"
     ]
    }
   ],
   "source": [
    "# Evaluasi model\n",
    "test_loss, test_acc = model.evaluate(test_data)\n",
    "print(f\"Test accuracy: {test_acc:.2f}\")"
   ]
  },
  {
   "cell_type": "code",
   "execution_count": 22,
   "id": "f465c19a-a517-4019-b0d8-dcd668b118be",
   "metadata": {},
   "outputs": [
    {
     "name": "stdout",
     "output_type": "stream",
     "text": [
      "94/94 [==============================] - 8s 83ms/step\n"
     ]
    }
   ],
   "source": [
    "# Prediksi label dari test set\n",
    "y_pred_probs = model.predict(test_data) # output prediksi probabilitas dari model.\n",
    "y_pred = np.argmax(y_pred_probs, axis=1) # mengubah probabilitas ke label kelas (nilai integer)."
   ]
  },
  {
   "cell_type": "code",
   "execution_count": 23,
   "id": "dbf96fc7-d991-4e87-a150-6a3553710263",
   "metadata": {},
   "outputs": [],
   "source": [
    "# Label sebenarnya dari test set\n",
    "y_true = test_data.classes"
   ]
  },
  {
   "cell_type": "code",
   "execution_count": 24,
   "id": "bda19b36-268c-4e0a-9c7b-c704a23856eb",
   "metadata": {},
   "outputs": [],
   "source": [
    "# Nama kelas\n",
    "class_labels = list(test_data.class_indices.keys())"
   ]
  },
  {
   "cell_type": "code",
   "execution_count": 25,
   "id": "30a25fe5-e292-4196-b847-348a54fee745",
   "metadata": {},
   "outputs": [
    {
     "name": "stdout",
     "output_type": "stream",
     "text": [
      "\n",
      "Classification Report:\n",
      "              precision    recall  f1-score   support\n",
      "\n",
      "   buildings       0.84      0.90      0.87       437\n",
      "      forest       0.96      0.98      0.97       474\n",
      "     glacier       0.86      0.85      0.86       553\n",
      "    mountain       0.87      0.82      0.85       525\n",
      "         sea       0.89      0.91      0.90       510\n",
      "      street       0.91      0.89      0.90       501\n",
      "\n",
      "    accuracy                           0.89      3000\n",
      "   macro avg       0.89      0.89      0.89      3000\n",
      "weighted avg       0.89      0.89      0.89      3000\n",
      "\n"
     ]
    }
   ],
   "source": [
    "# Classification Report\n",
    "print(\"\\nClassification Report:\")\n",
    "print(classification_report(y_true, y_pred, target_names=class_labels)) # menampilkan precision, recall, f1-score per kelas."
   ]
  },
  {
   "cell_type": "markdown",
   "id": "214c94c8-569e-4af1-8970-2ea1286196ae",
   "metadata": {},
   "source": [
    "**📊 Hasil Classification Report:**\n",
    "- Akurasi total: 89%\n",
    "- Kinerja per kelas:\n",
    "1. Forest: performa terbaik (Precision: 96%, Recall: 98%)\n",
    "2. Buildings & Sea: cukup baik (F1-score sekitar 87–90%)\n",
    "3. Mountain & Glacier: performa lebih rendah (F1-score ~85–86%)\n",
    "4. Macro Avg F1-score: 89% (rata-rata antar kelas)\n",
    "5. Weighted Avg F1-score: 89% (mempertimbangkan jumlah data per kelas)"
   ]
  },
  {
   "cell_type": "code",
   "execution_count": 26,
   "id": "694b4daa-29b2-4f8b-897e-98913178b16a",
   "metadata": {},
   "outputs": [
    {
     "data": {
      "image/png": "[encoded data removed]",
      "text/plain": [
       "<Figure size 640x480 with 1 Axes>"
      ]
     },
     "metadata": {},
     "output_type": "display_data"
    }
   ],
   "source": [
    "# Visualisasi akurasi dan loss\n",
    "plt.plot(history.history['accuracy'], label='train acc')\n",
    "plt.plot(history.history['val_accuracy'], label='val acc')\n",
    "plt.plot(history.history['loss'], label='train loss')\n",
    "plt.plot(history.history['val_loss'], label='val loss')\n",
    "plt.legend()\n",
    "plt.grid(True)\n",
    "plt.title(\"Training Performance\")\n",
    "plt.xlabel(\"Epochs\")\n",
    "plt.ylabel(\"Metrics\")\n",
    "plt.show()"
   ]
  },
  {
   "cell_type": "markdown",
   "id": "2683f55a-e3e3-4583-80dd-79afcd3a42a1",
   "metadata": {},
   "source": [
    "**📊 Analisis Grafik**\n",
    "\n",
    "1. ✅Train Accuracy vs Validation Accuracy (garis biru dan oranye)\n",
    "\n",
    "- Awal training (epoch 0–5): Terjadi peningkatan yang cepat di kedua metrik, meskipun sempat fluktuatif.\n",
    "- Setelah epoch 5: Akurasi stabil dan mendekati satu sama lain, berada di sekitar 88%.\n",
    "- Tidak terlihat overfitting berarti, karena tidak ada divergensi besar antara dua garis ini.\n",
    "\n",
    "2. ❎Train Loss vs Validation Loss (garis hijau dan merah)\n",
    "\n",
    "- Epoch 0–5: Fluktuasi cukup besar, terutama di validation loss (kemungkinan model masih menyesuaikan learning rate).\n",
    "- Setelah epoch 6: Loss pada kedua kurva menurun konsisten dan stabil.\n",
    "- Validation loss mengalami fluktuasi kecil, tapi tetap berada pada tren menurun dan akhirnya stabil di bawah 0.5."
   ]
  },
  {
   "cell_type": "markdown",
   "id": "195583cc-4bd3-4e23-ab5f-bccca3809721",
   "metadata": {},
   "source": [
    "## **Save Model**"
   ]
  },
  {
   "cell_type": "code",
   "execution_count": 27,
   "id": "b63fb1b2-274d-42f9-b79b-284d1ab4a476",
   "metadata": {},
   "outputs": [
    {
     "name": "stderr",
     "output_type": "stream",
     "text": [
      "C:\\Users\\ACER NITRO V15\\anaconda3\\envs\\image-classification\\lib\\site-packages\\keras\\src\\engine\\training.py:3000: UserWarning: You are saving your model as an HDF5 file via `model.save()`. This file format is considered legacy. We recommend using instead the native Keras format, e.g. `model.save('my_model.keras')`.\n",
      "  saving_api.save_model(\n"
     ]
    },
    {
     "name": "stdout",
     "output_type": "stream",
     "text": [
      "INFO:tensorflow:Assets written to: saved_model_format/assets\n"
     ]
    },
    {
     "name": "stderr",
     "output_type": "stream",
     "text": [
      "INFO:tensorflow:Assets written to: saved_model_format/assets\n"
     ]
    }
   ],
   "source": [
    "# Saved_Model\n",
    "# Simpan model ke format .keras atau .h5 \n",
    "model.save('cnn_model.h5')  # atau 'modelku.h5'\n",
    "\n",
    "# Simpan model ke format SavedModel (.pb)\n",
    "tf.saved_model.save(model, 'saved_model_format/')"
   ]
  },
  {
   "cell_type": "code",
   "execution_count": 28,
   "id": "499ec4f7-9ee2-4fbd-a1f0-98d5628a4fc0",
   "metadata": {},
   "outputs": [
    {
     "name": "stdout",
     "output_type": "stream",
     "text": [
      "INFO:tensorflow:Assets written to: C:\\Users\\ACERNI~1\\AppData\\Local\\Temp\\tmprts145im\\assets\n"
     ]
    },
    {
     "name": "stderr",
     "output_type": "stream",
     "text": [
      "INFO:tensorflow:Assets written to: C:\\Users\\ACERNI~1\\AppData\\Local\\Temp\\tmprts145im\\assets\n"
     ]
    }
   ],
   "source": [
    "# TF-Lite\n",
    "# Load model dari .keras atau .h5\n",
    "model = tf.keras.models.load_model('cnn_model.h5')  # atau 'modelku.h5'\n",
    "\n",
    "# Converter ke TFLite\n",
    "converter = tf.lite.TFLiteConverter.from_keras_model(model)\n",
    "tflite_model = converter.convert()\n",
    "\n",
    "# Simpan model TFLite\n",
    "with open('cnn_model.tflite', 'wb') as f:\n",
    "    f.write(tflite_model)"
   ]
  },
  {
   "cell_type": "code",
   "execution_count": null,
   "id": "64964380-ff7d-436f-b31c-0468d102b144",
   "metadata": {},
   "outputs": [],
   "source": [
    "# TF-Js\n",
    "# Load model dari file .h5\n",
    "import tensorflowjs as tfjs\n",
    "from tensorflow import keras\n",
    "model = keras.models.load_model('cnn_model.h5')\n",
    "\n",
    "# Konversi ke format TensorFlow.js\n",
    "tfjs.converters.save_keras_model(model, 'tfjs_model/')"
   ]
  },
  {
   "cell_type": "code",
   "execution_count": null,
   "id": "49aab598-0a27-4f6b-a2ac-498c4652f4f2",
   "metadata": {},
   "outputs": [],
   "source": [
    "# Simpan label.txt berdasarkan urutan class_indices\n",
    "with open('C:/Users/ACER NITRO V15/label.txt', 'w') as f:\n",
    "    for label in sorted(train_data.class_indices, key=lambda x: train_data.class_indices[x]):\n",
    "        f.write(f\"{label}\\n\")"
   ]
  },
  {
   "cell_type": "markdown",
   "id": "a059847c-1524-416b-a3b0-6994be19d13d",
   "metadata": {},
   "source": [
    "## **Inference**"
   ]
  },
  {
   "cell_type": "code",
   "execution_count": 13,
   "id": "94d7abd4-5cd7-41e5-b4d0-2f8b0387436c",
   "metadata": {},
   "outputs": [
    {
     "name": "stdout",
     "output_type": "stream",
     "text": [
      "Predicted class: mountain\n",
      "Predicted class: 3\n"
     ]
    }
   ],
   "source": [
    "# Inisialisasi interpreter untuk model TFLite\n",
    "interpreter = tf.lite.Interpreter(model_path=\"cnn_model.tflite\")\n",
    "\n",
    "# Alokasikan memori untuk tensor (wajib dilakukan sebelum inferensi)\n",
    "interpreter.allocate_tensors()\n",
    "\n",
    "# Ambil detail tensor input dan output dari model\n",
    "input_details = interpreter.get_input_details()\n",
    "output_details = interpreter.get_output_details()\n",
    "\n",
    "# Load gambar yang ingin diuji\n",
    "img = cv2.imread(r'D:\\PROJECT\\LASKAR AI\\Submission 6\\intel-image-classification\\inference\\143.jpg')\n",
    "img = cv2.resize(img, (150, 150))  # Ukuran disesuaikan dengan input model\n",
    "img = np.expand_dims(img / 255.0, axis=0).astype(np.float32)  # Normalisasi dan reshape\n",
    "\n",
    "# Masukkan gambar ke dalam tensor input model menggunakan index\n",
    "interpreter.set_tensor(input_details[0]['index'], img)\n",
    "\n",
    "# Jalankan inferensi\n",
    "interpreter.invoke()\n",
    "\n",
    "# Ambil hasil output dari tensor menggunakan index\n",
    "output_data = interpreter.get_tensor(output_details[0]['index'])\n",
    "labels = [\"buildings\", \"forest\", \"glacier\", \"mountain\", \"sea\", \"street\"]\n",
    "print(\"Predicted class:\", labels[np.argmax(output_data)])\n",
    "\n",
    "# Tampilkan hasil prediksi\n",
    "print(\"Predicted class:\", np.argmax(output_data))"
   ]
  }
 ],
 "metadata": {
  "kernelspec": {
   "display_name": "Python 3 (ipykernel)",
   "language": "python",
   "name": "python3"
  },
  "language_info": {
   "codemirror_mode": {
    "name": "ipython",
    "version": 3
   },
   "file_extension": ".py",
   "mimetype": "text/x-python",
   "name": "python",
   "nbconvert_exporter": "python",
   "pygments_lexer": "ipython3",
   "version": "3.10.13"
  }
 },
 "nbformat": 4,
 "nbformat_minor": 5
}
